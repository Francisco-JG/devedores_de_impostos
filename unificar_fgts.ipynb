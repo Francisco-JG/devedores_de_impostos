{
 "metadata": {
  "language_info": {
   "codemirror_mode": {
    "name": "ipython",
    "version": 3
   },
   "file_extension": ".py",
   "mimetype": "text/x-python",
   "name": "python",
   "nbconvert_exporter": "python",
   "pygments_lexer": "ipython3",
   "version": "3.8.5"
  },
  "orig_nbformat": 2,
  "kernelspec": {
   "name": "python385jvsc74a57bd0af573f283834de0d94267a2f349eb6a57bfc80fc16df6f4176b3eb1c7a5367fc",
   "display_name": "Python 3.8.5 64-bit ('base': conda)"
  }
 },
 "nbformat": 4,
 "nbformat_minor": 2,
 "cells": [
  {
   "cell_type": "code",
   "execution_count": 2,
   "metadata": {},
   "outputs": [],
   "source": [
    "import pandas as p\n",
    "import numpy as np\n",
    "import os\n",
    "import glob"
   ]
  },
  {
   "cell_type": "code",
   "execution_count": 3,
   "metadata": {},
   "outputs": [],
   "source": [
    "arquivos = glob.glob('fgts/*.csv')\n",
    "lista = []\n",
    "for f in arquivos:\n",
    "  estado = p.read_csv(f, encoding='iso-8859-1', sep=';')\n",
    "  lista.append(estado)\n",
    "\n",
    "fgts1 = p.concat(lista)"
   ]
  },
  {
   "cell_type": "code",
   "execution_count": 4,
   "metadata": {},
   "outputs": [],
   "source": [
    "fgts2 = p.read_csv('arquivo_lai_FGTS_NA_202012.csv', encoding='iso-8859-1', sep=';')"
   ]
  },
  {
   "cell_type": "code",
   "execution_count": 6,
   "metadata": {},
   "outputs": [
    {
     "output_type": "execute_result",
     "data": {
      "text/plain": [
       "                 CPF_CNPJ      TIPO_PESSOA TIPO_DEVEDOR  \\\n",
       "539    34.028.316/0021-57  Pessoa jurídica    Principal   \n",
       "26617  33.592.510/0001-54  Pessoa jurídica    Principal   \n",
       "6356   92.772.821/0001-64  Pessoa jurídica    Principal   \n",
       "13905  18.715.615/0001-60  Pessoa jurídica    Principal   \n",
       "2763   13.926.639/0001-44  Pessoa jurídica    Principal   \n",
       "\n",
       "                                            NOME_DEVEDOR  \\\n",
       "539          EMPRESA BRASILEIRA DE CORREIOS E TELEGRAFOS   \n",
       "26617                                          VALE S.A.   \n",
       "6356              S.A. VIACAO AEREA RIOGRANDENSE  FALIDA   \n",
       "13905                             ESTADO DE MINAS GERAIS   \n",
       "2763   MONTE TABOR CENTRO ITALO BRASILEIRO DE PROM SA...   \n",
       "\n",
       "      UF_UNIDADE_RESPONSAVEL UNIDADE_RESPONSAVEL ENTIDADE_RESPONSAVEL  \\\n",
       "539                       PE           5ª REGIÃO                 PGFN   \n",
       "26617                     RJ           2ª REGIÃO                 PGFN   \n",
       "6356                      RJ           2ª REGIÃO                 PGFN   \n",
       "13905                     MG        MINAS GERAIS                 PGFN   \n",
       "2763                      BA               BAHIA                 PGFN   \n",
       "\n",
       "      UNIDADE_INSCRICAO NUMERO_INSCRICAO TIPO_SITUACAO_INSCRICAO  \\\n",
       "539           5ª REGIÃO    FGPE201800085             Em cobrança   \n",
       "26617         2ª REGIÃO    FGRJ200800141                Garantia   \n",
       "6356          2ª REGIÃO    FGRJ201300870             Em cobrança   \n",
       "13905      MINAS GERAIS    FGMG201903178             Em cobrança   \n",
       "2763              BAHIA    FGBA202000040             Em cobrança   \n",
       "\n",
       "      SITUACAO_INSCRICAO   RECEITA_PRINCIPAL DATA_INSCRICAO  \\\n",
       "539             AJUIZADA  Contribuições FGTS     05/03/2018   \n",
       "26617          EMBARGADA  Contribuições FGTS     07/03/2008   \n",
       "6356            AJUIZADA  Contribuições FGTS     17/05/2013   \n",
       "13905           INSCRITA  Contribuições FGTS     13/11/2019   \n",
       "2763            INSCRITA  Contribuições FGTS     14/01/2020   \n",
       "\n",
       "      INDICADOR_AJUIZADO  VALOR_CONSOLIDADO  \n",
       "539                  SIM       1.187997e+08  \n",
       "26617                SIM       1.082970e+08  \n",
       "6356                 SIM       9.435951e+07  \n",
       "13905                NAO       6.420826e+07  \n",
       "2763                 NAO       6.023457e+07  "
      ],
      "text/html": "<div>\n<style scoped>\n    .dataframe tbody tr th:only-of-type {\n        vertical-align: middle;\n    }\n\n    .dataframe tbody tr th {\n        vertical-align: top;\n    }\n\n    .dataframe thead th {\n        text-align: right;\n    }\n</style>\n<table border=\"1\" class=\"dataframe\">\n  <thead>\n    <tr style=\"text-align: right;\">\n      <th></th>\n      <th>CPF_CNPJ</th>\n      <th>TIPO_PESSOA</th>\n      <th>TIPO_DEVEDOR</th>\n      <th>NOME_DEVEDOR</th>\n      <th>UF_UNIDADE_RESPONSAVEL</th>\n      <th>UNIDADE_RESPONSAVEL</th>\n      <th>ENTIDADE_RESPONSAVEL</th>\n      <th>UNIDADE_INSCRICAO</th>\n      <th>NUMERO_INSCRICAO</th>\n      <th>TIPO_SITUACAO_INSCRICAO</th>\n      <th>SITUACAO_INSCRICAO</th>\n      <th>RECEITA_PRINCIPAL</th>\n      <th>DATA_INSCRICAO</th>\n      <th>INDICADOR_AJUIZADO</th>\n      <th>VALOR_CONSOLIDADO</th>\n    </tr>\n  </thead>\n  <tbody>\n    <tr>\n      <th>539</th>\n      <td>34.028.316/0021-57</td>\n      <td>Pessoa jurídica</td>\n      <td>Principal</td>\n      <td>EMPRESA BRASILEIRA DE CORREIOS E TELEGRAFOS</td>\n      <td>PE</td>\n      <td>5ª REGIÃO</td>\n      <td>PGFN</td>\n      <td>5ª REGIÃO</td>\n      <td>FGPE201800085</td>\n      <td>Em cobrança</td>\n      <td>AJUIZADA</td>\n      <td>Contribuições FGTS</td>\n      <td>05/03/2018</td>\n      <td>SIM</td>\n      <td>1.187997e+08</td>\n    </tr>\n    <tr>\n      <th>26617</th>\n      <td>33.592.510/0001-54</td>\n      <td>Pessoa jurídica</td>\n      <td>Principal</td>\n      <td>VALE S.A.</td>\n      <td>RJ</td>\n      <td>2ª REGIÃO</td>\n      <td>PGFN</td>\n      <td>2ª REGIÃO</td>\n      <td>FGRJ200800141</td>\n      <td>Garantia</td>\n      <td>EMBARGADA</td>\n      <td>Contribuições FGTS</td>\n      <td>07/03/2008</td>\n      <td>SIM</td>\n      <td>1.082970e+08</td>\n    </tr>\n    <tr>\n      <th>6356</th>\n      <td>92.772.821/0001-64</td>\n      <td>Pessoa jurídica</td>\n      <td>Principal</td>\n      <td>S.A. VIACAO AEREA RIOGRANDENSE  FALIDA</td>\n      <td>RJ</td>\n      <td>2ª REGIÃO</td>\n      <td>PGFN</td>\n      <td>2ª REGIÃO</td>\n      <td>FGRJ201300870</td>\n      <td>Em cobrança</td>\n      <td>AJUIZADA</td>\n      <td>Contribuições FGTS</td>\n      <td>17/05/2013</td>\n      <td>SIM</td>\n      <td>9.435951e+07</td>\n    </tr>\n    <tr>\n      <th>13905</th>\n      <td>18.715.615/0001-60</td>\n      <td>Pessoa jurídica</td>\n      <td>Principal</td>\n      <td>ESTADO DE MINAS GERAIS</td>\n      <td>MG</td>\n      <td>MINAS GERAIS</td>\n      <td>PGFN</td>\n      <td>MINAS GERAIS</td>\n      <td>FGMG201903178</td>\n      <td>Em cobrança</td>\n      <td>INSCRITA</td>\n      <td>Contribuições FGTS</td>\n      <td>13/11/2019</td>\n      <td>NAO</td>\n      <td>6.420826e+07</td>\n    </tr>\n    <tr>\n      <th>2763</th>\n      <td>13.926.639/0001-44</td>\n      <td>Pessoa jurídica</td>\n      <td>Principal</td>\n      <td>MONTE TABOR CENTRO ITALO BRASILEIRO DE PROM SA...</td>\n      <td>BA</td>\n      <td>BAHIA</td>\n      <td>PGFN</td>\n      <td>BAHIA</td>\n      <td>FGBA202000040</td>\n      <td>Em cobrança</td>\n      <td>INSCRITA</td>\n      <td>Contribuições FGTS</td>\n      <td>14/01/2020</td>\n      <td>NAO</td>\n      <td>6.023457e+07</td>\n    </tr>\n  </tbody>\n</table>\n</div>"
     },
     "metadata": {},
     "execution_count": 6
    }
   ],
   "source": [
    "fgts1.sort_values(['VALOR_CONSOLIDADO'], ascending=[0]).head()"
   ]
  },
  {
   "cell_type": "code",
   "execution_count": 7,
   "metadata": {},
   "outputs": [
    {
     "output_type": "execute_result",
     "data": {
      "text/plain": [
       "                 CPF_CNPJ      TIPO_PESSOA TIPO_DEVEDOR  \\\n",
       "539    34.028.316/0021-57  Pessoa jurídica    Principal   \n",
       "26617  33.592.510/0001-54  Pessoa jurídica    Principal   \n",
       "6356   92.772.821/0001-64  Pessoa jurídica    Principal   \n",
       "13905  18.715.615/0001-60  Pessoa jurídica    Principal   \n",
       "2763   13.926.639/0001-44  Pessoa jurídica    Principal   \n",
       "\n",
       "                                            NOME_DEVEDOR  \\\n",
       "539          EMPRESA BRASILEIRA DE CORREIOS E TELEGRAFOS   \n",
       "26617                                          VALE S.A.   \n",
       "6356              S.A. VIACAO AEREA RIOGRANDENSE  FALIDA   \n",
       "13905                             ESTADO DE MINAS GERAIS   \n",
       "2763   MONTE TABOR CENTRO ITALO BRASILEIRO DE PROM SA...   \n",
       "\n",
       "      UF_UNIDADE_RESPONSAVEL UNIDADE_RESPONSAVEL ENTIDADE_RESPONSAVEL  \\\n",
       "539                       PE           5ª REGIÃO                 PGFN   \n",
       "26617                     RJ           2ª REGIÃO                 PGFN   \n",
       "6356                      RJ           2ª REGIÃO                 PGFN   \n",
       "13905                     MG        MINAS GERAIS                 PGFN   \n",
       "2763                      BA               BAHIA                 PGFN   \n",
       "\n",
       "      UNIDADE_INSCRICAO NUMERO_INSCRICAO TIPO_SITUACAO_INSCRICAO  \\\n",
       "539           5ª REGIÃO    FGPE201800085             Em cobrança   \n",
       "26617         2ª REGIÃO    FGRJ200800141                Garantia   \n",
       "6356          2ª REGIÃO    FGRJ201300870             Em cobrança   \n",
       "13905      MINAS GERAIS    FGMG201903178             Em cobrança   \n",
       "2763              BAHIA    FGBA202000040             Em cobrança   \n",
       "\n",
       "      SITUACAO_INSCRICAO   RECEITA_PRINCIPAL DATA_INSCRICAO  \\\n",
       "539             AJUIZADA  Contribuições FGTS     05/03/2018   \n",
       "26617          EMBARGADA  Contribuições FGTS     07/03/2008   \n",
       "6356            AJUIZADA  Contribuições FGTS     17/05/2013   \n",
       "13905           INSCRITA  Contribuições FGTS     13/11/2019   \n",
       "2763            INSCRITA  Contribuições FGTS     14/01/2020   \n",
       "\n",
       "      INDICADOR_AJUIZADO  VALOR_CONSOLIDADO  \n",
       "539                  SIM       1.187997e+08  \n",
       "26617                SIM       1.082970e+08  \n",
       "6356                 SIM       9.435951e+07  \n",
       "13905                NAO       6.420826e+07  \n",
       "2763                 NAO       6.023457e+07  "
      ],
      "text/html": "<div>\n<style scoped>\n    .dataframe tbody tr th:only-of-type {\n        vertical-align: middle;\n    }\n\n    .dataframe tbody tr th {\n        vertical-align: top;\n    }\n\n    .dataframe thead th {\n        text-align: right;\n    }\n</style>\n<table border=\"1\" class=\"dataframe\">\n  <thead>\n    <tr style=\"text-align: right;\">\n      <th></th>\n      <th>CPF_CNPJ</th>\n      <th>TIPO_PESSOA</th>\n      <th>TIPO_DEVEDOR</th>\n      <th>NOME_DEVEDOR</th>\n      <th>UF_UNIDADE_RESPONSAVEL</th>\n      <th>UNIDADE_RESPONSAVEL</th>\n      <th>ENTIDADE_RESPONSAVEL</th>\n      <th>UNIDADE_INSCRICAO</th>\n      <th>NUMERO_INSCRICAO</th>\n      <th>TIPO_SITUACAO_INSCRICAO</th>\n      <th>SITUACAO_INSCRICAO</th>\n      <th>RECEITA_PRINCIPAL</th>\n      <th>DATA_INSCRICAO</th>\n      <th>INDICADOR_AJUIZADO</th>\n      <th>VALOR_CONSOLIDADO</th>\n    </tr>\n  </thead>\n  <tbody>\n    <tr>\n      <th>539</th>\n      <td>34.028.316/0021-57</td>\n      <td>Pessoa jurídica</td>\n      <td>Principal</td>\n      <td>EMPRESA BRASILEIRA DE CORREIOS E TELEGRAFOS</td>\n      <td>PE</td>\n      <td>5ª REGIÃO</td>\n      <td>PGFN</td>\n      <td>5ª REGIÃO</td>\n      <td>FGPE201800085</td>\n      <td>Em cobrança</td>\n      <td>AJUIZADA</td>\n      <td>Contribuições FGTS</td>\n      <td>05/03/2018</td>\n      <td>SIM</td>\n      <td>1.187997e+08</td>\n    </tr>\n    <tr>\n      <th>26617</th>\n      <td>33.592.510/0001-54</td>\n      <td>Pessoa jurídica</td>\n      <td>Principal</td>\n      <td>VALE S.A.</td>\n      <td>RJ</td>\n      <td>2ª REGIÃO</td>\n      <td>PGFN</td>\n      <td>2ª REGIÃO</td>\n      <td>FGRJ200800141</td>\n      <td>Garantia</td>\n      <td>EMBARGADA</td>\n      <td>Contribuições FGTS</td>\n      <td>07/03/2008</td>\n      <td>SIM</td>\n      <td>1.082970e+08</td>\n    </tr>\n    <tr>\n      <th>6356</th>\n      <td>92.772.821/0001-64</td>\n      <td>Pessoa jurídica</td>\n      <td>Principal</td>\n      <td>S.A. VIACAO AEREA RIOGRANDENSE  FALIDA</td>\n      <td>RJ</td>\n      <td>2ª REGIÃO</td>\n      <td>PGFN</td>\n      <td>2ª REGIÃO</td>\n      <td>FGRJ201300870</td>\n      <td>Em cobrança</td>\n      <td>AJUIZADA</td>\n      <td>Contribuições FGTS</td>\n      <td>17/05/2013</td>\n      <td>SIM</td>\n      <td>9.435951e+07</td>\n    </tr>\n    <tr>\n      <th>13905</th>\n      <td>18.715.615/0001-60</td>\n      <td>Pessoa jurídica</td>\n      <td>Principal</td>\n      <td>ESTADO DE MINAS GERAIS</td>\n      <td>MG</td>\n      <td>MINAS GERAIS</td>\n      <td>PGFN</td>\n      <td>MINAS GERAIS</td>\n      <td>FGMG201903178</td>\n      <td>Em cobrança</td>\n      <td>INSCRITA</td>\n      <td>Contribuições FGTS</td>\n      <td>13/11/2019</td>\n      <td>NAO</td>\n      <td>6.420826e+07</td>\n    </tr>\n    <tr>\n      <th>2763</th>\n      <td>13.926.639/0001-44</td>\n      <td>Pessoa jurídica</td>\n      <td>Principal</td>\n      <td>MONTE TABOR CENTRO ITALO BRASILEIRO DE PROM SA...</td>\n      <td>BA</td>\n      <td>BAHIA</td>\n      <td>PGFN</td>\n      <td>BAHIA</td>\n      <td>FGBA202000040</td>\n      <td>Em cobrança</td>\n      <td>INSCRITA</td>\n      <td>Contribuições FGTS</td>\n      <td>14/01/2020</td>\n      <td>NAO</td>\n      <td>6.023457e+07</td>\n    </tr>\n  </tbody>\n</table>\n</div>"
     },
     "metadata": {},
     "execution_count": 7
    }
   ],
   "source": [
    "fgts1.sort_values(['VALOR_CONSOLIDADO'], ascending=[0]).head()"
   ]
  },
  {
   "cell_type": "code",
   "execution_count": 8,
   "metadata": {},
   "outputs": [
    {
     "output_type": "execute_result",
     "data": {
      "text/plain": [
       "CPF_CNPJ                   274846\n",
       "TIPO_PESSOA                274846\n",
       "TIPO_DEVEDOR               274846\n",
       "NOME_DEVEDOR               274846\n",
       "UF_UNIDADE_RESPONSAVEL     274846\n",
       "UNIDADE_RESPONSAVEL        274846\n",
       "ENTIDADE_RESPONSAVEL       274846\n",
       "UNIDADE_INSCRICAO          274846\n",
       "NUMERO_INSCRICAO           274846\n",
       "TIPO_SITUACAO_INSCRICAO    274846\n",
       "SITUACAO_INSCRICAO         274846\n",
       "RECEITA_PRINCIPAL          274846\n",
       "DATA_INSCRICAO             274846\n",
       "INDICADOR_AJUIZADO         274846\n",
       "VALOR_CONSOLIDADO          274846\n",
       "dtype: int64"
      ]
     },
     "metadata": {},
     "execution_count": 8
    }
   ],
   "source": [
    "fgts1.count()"
   ]
  },
  {
   "cell_type": "code",
   "execution_count": 9,
   "metadata": {},
   "outputs": [
    {
     "output_type": "execute_result",
     "data": {
      "text/plain": [
       "CPF_CNPJ                   160104\n",
       "TIPO_PESSOA                160104\n",
       "TIPO_DEVEDOR               160104\n",
       "NOME_DEVEDOR               160104\n",
       "UF_UNIDADE_RESPONSAVEL          0\n",
       "UNIDADE_RESPONSAVEL        160104\n",
       "ENTIDADE_RESPONSAVEL       160104\n",
       "UNIDADE_INSCRICAO          160104\n",
       "NUMERO_INSCRICAO           160104\n",
       "TIPO_SITUACAO_INSCRICAO    160104\n",
       "SITUACAO_INSCRICAO         160104\n",
       "RECEITA_PRINCIPAL          160104\n",
       "DATA_INSCRICAO             160104\n",
       "INDICADOR_AJUIZADO         160104\n",
       "VALOR_CONSOLIDADO          160104\n",
       "dtype: int64"
      ]
     },
     "metadata": {},
     "execution_count": 9
    }
   ],
   "source": [
    "fgts2.count()"
   ]
  },
  {
   "cell_type": "code",
   "execution_count": 10,
   "metadata": {},
   "outputs": [],
   "source": [
    "# A visualização mostrou que existem as mesmas entradas em ambas as listas (nacional e estadual), mas a contagem mostrou que são listas diferentes... Então o mais seguro é somar as listas e remover as entradas repetidas.\n",
    "\n",
    "fgts_total = p.concat([fgts1, fgts2]).drop_duplicates(subset=['NUMERO_INSCRICAO'])"
   ]
  },
  {
   "cell_type": "code",
   "execution_count": 11,
   "metadata": {},
   "outputs": [
    {
     "output_type": "execute_result",
     "data": {
      "text/plain": [
       "CPF_CNPJ                   434950\n",
       "TIPO_PESSOA                434950\n",
       "TIPO_DEVEDOR               434950\n",
       "NOME_DEVEDOR               434950\n",
       "UF_UNIDADE_RESPONSAVEL     274846\n",
       "UNIDADE_RESPONSAVEL        434950\n",
       "ENTIDADE_RESPONSAVEL       434950\n",
       "UNIDADE_INSCRICAO          434950\n",
       "NUMERO_INSCRICAO           434950\n",
       "TIPO_SITUACAO_INSCRICAO    434950\n",
       "SITUACAO_INSCRICAO         434950\n",
       "RECEITA_PRINCIPAL          434950\n",
       "DATA_INSCRICAO             434950\n",
       "INDICADOR_AJUIZADO         434950\n",
       "VALOR_CONSOLIDADO          434950\n",
       "dtype: int64"
      ]
     },
     "metadata": {},
     "execution_count": 11
    }
   ],
   "source": [
    "fgts_total.count()"
   ]
  },
  {
   "cell_type": "code",
   "execution_count": 12,
   "metadata": {},
   "outputs": [],
   "source": [
    "fgts_total.to_csv(r'fgts_total.csv')"
   ]
  },
  {
   "cell_type": "code",
   "execution_count": null,
   "metadata": {},
   "outputs": [],
   "source": []
  }
 ]
}