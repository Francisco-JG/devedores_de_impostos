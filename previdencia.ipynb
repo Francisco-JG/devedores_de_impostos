{
 "metadata": {
  "language_info": {
   "codemirror_mode": {
    "name": "ipython",
    "version": 3
   },
   "file_extension": ".py",
   "mimetype": "text/x-python",
   "name": "python",
   "nbconvert_exporter": "python",
   "pygments_lexer": "ipython3",
   "version": "3.8.5-final"
  },
  "orig_nbformat": 2,
  "kernelspec": {
   "name": "python385jvsc74a57bd0af573f283834de0d94267a2f349eb6a57bfc80fc16df6f4176b3eb1c7a5367fc",
   "display_name": "Python 3.8.5 64-bit"
  }
 },
 "nbformat": 4,
 "nbformat_minor": 2,
 "cells": [
  {
   "cell_type": "code",
   "execution_count": 1,
   "metadata": {},
   "outputs": [],
   "source": [
    "import pandas as p\n",
    "%matplotlib inline\n",
    "import matplotlib.pyplot as plt\n",
    "import seaborn as sns\n",
    "import numpy as np\n",
    "from matplotlib.gridspec import GridSpec\n",
    "import os\n",
    "import glob"
   ]
  },
  {
   "cell_type": "code",
   "execution_count": 2,
   "metadata": {},
   "outputs": [
    {
     "output_type": "execute_result",
     "data": {
      "text/plain": [
       "             CPF_CNPJ      TIPO_PESSOA TIPO_DEVEDOR  \\\n",
       "0  11.064.630/0001-46  Pessoa jurídica    Principal   \n",
       "1  11.064.630/0001-46  Pessoa jurídica    Principal   \n",
       "2  03.022.485/0001-02  Pessoa jurídica    Principal   \n",
       "3  07.620.736/0001-01  Pessoa jurídica    Principal   \n",
       "4  84.321.900/0001-20  Pessoa jurídica    Principal   \n",
       "\n",
       "                                       NOME_DEVEDOR UF_UNIDADE_RESPONSAVEL  \\\n",
       "0                  MAB EMPREENDIMENTOS OPTICOS LTDA                     AC   \n",
       "1                  MAB EMPREENDIMENTOS OPTICOS LTDA                     AC   \n",
       "2                  F R DE OLIVEIRA CONSTRUCOES LTDA                     AC   \n",
       "3  ATACADAO DE MADEIRAS RIO BRANCO IND. E COM. LTDA                     AC   \n",
       "4                SERVICOS EDITORIAIS A TRIBUNA LTDA                     AC   \n",
       "\n",
       "  UNIDADE_RESPONSAVEL  NUMERO_INSCRICAO TIPO_SITUACAO_INSCRICAO  \\\n",
       "0                ACRE         166575755             Em cobrança   \n",
       "1                ACRE         166575747             Em cobrança   \n",
       "2                ACRE         172109655             Em cobrança   \n",
       "3                ACRE         167109472             Em cobrança   \n",
       "4                ACRE         170111148             Em cobrança   \n",
       "\n",
       "                     SITUACAO_INSCRICAO TIPO_CREDITO DATA_INSCRICAO  \\\n",
       "0  INSCRICAO DE CREDITO EM DIVIDA ATIVA       OUTROS     17/03/2020   \n",
       "1  INSCRICAO DE CREDITO EM DIVIDA ATIVA       OUTROS     17/03/2020   \n",
       "2  INSCRICAO DE CREDITO EM DIVIDA ATIVA       OUTROS     27/06/2020   \n",
       "3  INSCRICAO DE CREDITO EM DIVIDA ATIVA       OUTROS     04/04/2020   \n",
       "4  INSCRICAO DE CREDITO EM DIVIDA ATIVA       OUTROS     29/02/2020   \n",
       "\n",
       "  INDICADOR_AJUIZADO  VALOR_CONSOLIDADO  \n",
       "0                NAO            7584.04  \n",
       "1                NAO           13405.90  \n",
       "2                NAO            7530.11  \n",
       "3                NAO            9149.24  \n",
       "4                NAO           47424.60  "
      ],
      "text/html": "<div>\n<style scoped>\n    .dataframe tbody tr th:only-of-type {\n        vertical-align: middle;\n    }\n\n    .dataframe tbody tr th {\n        vertical-align: top;\n    }\n\n    .dataframe thead th {\n        text-align: right;\n    }\n</style>\n<table border=\"1\" class=\"dataframe\">\n  <thead>\n    <tr style=\"text-align: right;\">\n      <th></th>\n      <th>CPF_CNPJ</th>\n      <th>TIPO_PESSOA</th>\n      <th>TIPO_DEVEDOR</th>\n      <th>NOME_DEVEDOR</th>\n      <th>UF_UNIDADE_RESPONSAVEL</th>\n      <th>UNIDADE_RESPONSAVEL</th>\n      <th>NUMERO_INSCRICAO</th>\n      <th>TIPO_SITUACAO_INSCRICAO</th>\n      <th>SITUACAO_INSCRICAO</th>\n      <th>TIPO_CREDITO</th>\n      <th>DATA_INSCRICAO</th>\n      <th>INDICADOR_AJUIZADO</th>\n      <th>VALOR_CONSOLIDADO</th>\n    </tr>\n  </thead>\n  <tbody>\n    <tr>\n      <th>0</th>\n      <td>11.064.630/0001-46</td>\n      <td>Pessoa jurídica</td>\n      <td>Principal</td>\n      <td>MAB EMPREENDIMENTOS OPTICOS LTDA</td>\n      <td>AC</td>\n      <td>ACRE</td>\n      <td>166575755</td>\n      <td>Em cobrança</td>\n      <td>INSCRICAO DE CREDITO EM DIVIDA ATIVA</td>\n      <td>OUTROS</td>\n      <td>17/03/2020</td>\n      <td>NAO</td>\n      <td>7584.04</td>\n    </tr>\n    <tr>\n      <th>1</th>\n      <td>11.064.630/0001-46</td>\n      <td>Pessoa jurídica</td>\n      <td>Principal</td>\n      <td>MAB EMPREENDIMENTOS OPTICOS LTDA</td>\n      <td>AC</td>\n      <td>ACRE</td>\n      <td>166575747</td>\n      <td>Em cobrança</td>\n      <td>INSCRICAO DE CREDITO EM DIVIDA ATIVA</td>\n      <td>OUTROS</td>\n      <td>17/03/2020</td>\n      <td>NAO</td>\n      <td>13405.90</td>\n    </tr>\n    <tr>\n      <th>2</th>\n      <td>03.022.485/0001-02</td>\n      <td>Pessoa jurídica</td>\n      <td>Principal</td>\n      <td>F R DE OLIVEIRA CONSTRUCOES LTDA</td>\n      <td>AC</td>\n      <td>ACRE</td>\n      <td>172109655</td>\n      <td>Em cobrança</td>\n      <td>INSCRICAO DE CREDITO EM DIVIDA ATIVA</td>\n      <td>OUTROS</td>\n      <td>27/06/2020</td>\n      <td>NAO</td>\n      <td>7530.11</td>\n    </tr>\n    <tr>\n      <th>3</th>\n      <td>07.620.736/0001-01</td>\n      <td>Pessoa jurídica</td>\n      <td>Principal</td>\n      <td>ATACADAO DE MADEIRAS RIO BRANCO IND. E COM. LTDA</td>\n      <td>AC</td>\n      <td>ACRE</td>\n      <td>167109472</td>\n      <td>Em cobrança</td>\n      <td>INSCRICAO DE CREDITO EM DIVIDA ATIVA</td>\n      <td>OUTROS</td>\n      <td>04/04/2020</td>\n      <td>NAO</td>\n      <td>9149.24</td>\n    </tr>\n    <tr>\n      <th>4</th>\n      <td>84.321.900/0001-20</td>\n      <td>Pessoa jurídica</td>\n      <td>Principal</td>\n      <td>SERVICOS EDITORIAIS A TRIBUNA LTDA</td>\n      <td>AC</td>\n      <td>ACRE</td>\n      <td>170111148</td>\n      <td>Em cobrança</td>\n      <td>INSCRICAO DE CREDITO EM DIVIDA ATIVA</td>\n      <td>OUTROS</td>\n      <td>29/02/2020</td>\n      <td>NAO</td>\n      <td>47424.60</td>\n    </tr>\n  </tbody>\n</table>\n</div>"
     },
     "metadata": {},
     "execution_count": 2
    }
   ],
   "source": [
    "prev = p.read_csv('dívida_prev_total_2020.csv')\n",
    "prev.head()"
   ]
  },
  {
   "cell_type": "code",
   "execution_count": 23,
   "metadata": {},
   "outputs": [
    {
     "output_type": "execute_result",
     "data": {
      "text/plain": [
       "                    NUMERO_INSCRICAO  VALOR_CONSOLIDADO\n",
       "CPF_CNPJ                                               \n",
       "60.701.190/0001-04        1124222834       5.750128e+08\n",
       "33.700.394/0001-40        1121334012       4.464752e+08\n",
       "17.298.092/0001-30        1110344391       1.812040e+08\n",
       "17.155.730/0001-64         370257600       1.771690e+08\n",
       "59.275.792/0001-50        1502200369       1.502530e+08\n",
       "22.980.999/0001-15        2021446955       1.171775e+08\n",
       "44.351.146/0001-57        1230278817       1.150455e+08\n",
       "90.400.888/0001-42        3393229979       1.068730e+08\n",
       "82.981.812/0001-20        6070422361       9.818283e+07\n",
       "29.138.351/0001-45        9354382694       9.446818e+07\n",
       "05.421.300/0001-68        2153460418       8.219485e+07\n",
       "44.952.711/0001-31         711168550       7.101882e+07\n",
       "06.981.180/0001-16         373394020       6.245590e+07\n",
       "02.328.280/0001-97         359577806       6.007887e+07\n",
       "14.147.490/0001-68        2847410627       5.930385e+07\n",
       "28.195.667/0001-06        1118898724       5.813936e+07\n",
       "XXX933.468XX              6760484755       5.469830e+07\n",
       "02.790.893/0002-22         355583810       5.319082e+07\n",
       "05.105.283/0001-50         714524534       5.314162e+07\n",
       "17.209.891/0001-93        4581910352       5.099955e+07"
      ],
      "text/html": "<div>\n<style scoped>\n    .dataframe tbody tr th:only-of-type {\n        vertical-align: middle;\n    }\n\n    .dataframe tbody tr th {\n        vertical-align: top;\n    }\n\n    .dataframe thead th {\n        text-align: right;\n    }\n</style>\n<table border=\"1\" class=\"dataframe\">\n  <thead>\n    <tr style=\"text-align: right;\">\n      <th></th>\n      <th>NUMERO_INSCRICAO</th>\n      <th>VALOR_CONSOLIDADO</th>\n    </tr>\n    <tr>\n      <th>CPF_CNPJ</th>\n      <th></th>\n      <th></th>\n    </tr>\n  </thead>\n  <tbody>\n    <tr>\n      <th>60.701.190/0001-04</th>\n      <td>1124222834</td>\n      <td>5.750128e+08</td>\n    </tr>\n    <tr>\n      <th>33.700.394/0001-40</th>\n      <td>1121334012</td>\n      <td>4.464752e+08</td>\n    </tr>\n    <tr>\n      <th>17.298.092/0001-30</th>\n      <td>1110344391</td>\n      <td>1.812040e+08</td>\n    </tr>\n    <tr>\n      <th>17.155.730/0001-64</th>\n      <td>370257600</td>\n      <td>1.771690e+08</td>\n    </tr>\n    <tr>\n      <th>59.275.792/0001-50</th>\n      <td>1502200369</td>\n      <td>1.502530e+08</td>\n    </tr>\n    <tr>\n      <th>22.980.999/0001-15</th>\n      <td>2021446955</td>\n      <td>1.171775e+08</td>\n    </tr>\n    <tr>\n      <th>44.351.146/0001-57</th>\n      <td>1230278817</td>\n      <td>1.150455e+08</td>\n    </tr>\n    <tr>\n      <th>90.400.888/0001-42</th>\n      <td>3393229979</td>\n      <td>1.068730e+08</td>\n    </tr>\n    <tr>\n      <th>82.981.812/0001-20</th>\n      <td>6070422361</td>\n      <td>9.818283e+07</td>\n    </tr>\n    <tr>\n      <th>29.138.351/0001-45</th>\n      <td>9354382694</td>\n      <td>9.446818e+07</td>\n    </tr>\n    <tr>\n      <th>05.421.300/0001-68</th>\n      <td>2153460418</td>\n      <td>8.219485e+07</td>\n    </tr>\n    <tr>\n      <th>44.952.711/0001-31</th>\n      <td>711168550</td>\n      <td>7.101882e+07</td>\n    </tr>\n    <tr>\n      <th>06.981.180/0001-16</th>\n      <td>373394020</td>\n      <td>6.245590e+07</td>\n    </tr>\n    <tr>\n      <th>02.328.280/0001-97</th>\n      <td>359577806</td>\n      <td>6.007887e+07</td>\n    </tr>\n    <tr>\n      <th>14.147.490/0001-68</th>\n      <td>2847410627</td>\n      <td>5.930385e+07</td>\n    </tr>\n    <tr>\n      <th>28.195.667/0001-06</th>\n      <td>1118898724</td>\n      <td>5.813936e+07</td>\n    </tr>\n    <tr>\n      <th>XXX933.468XX</th>\n      <td>6760484755</td>\n      <td>5.469830e+07</td>\n    </tr>\n    <tr>\n      <th>02.790.893/0002-22</th>\n      <td>355583810</td>\n      <td>5.319082e+07</td>\n    </tr>\n    <tr>\n      <th>05.105.283/0001-50</th>\n      <td>714524534</td>\n      <td>5.314162e+07</td>\n    </tr>\n    <tr>\n      <th>17.209.891/0001-93</th>\n      <td>4581910352</td>\n      <td>5.099955e+07</td>\n    </tr>\n  </tbody>\n</table>\n</div>"
     },
     "metadata": {},
     "execution_count": 23
    }
   ],
   "source": [
    "lista = prev.groupby('CPF_CNPJ').agg('sum').sort_values(['VALOR_CONSOLIDADO'], ascending=[0])\n",
    "lista[:20]"
   ]
  },
  {
   "source": [
    "Apenas o 17º dos 20 maiores devedores da previdência em 2020 é pessoa física!"
   ],
   "cell_type": "markdown",
   "metadata": {}
  },
  {
   "cell_type": "code",
   "execution_count": 31,
   "metadata": {},
   "outputs": [
    {
     "output_type": "execute_result",
     "data": {
      "text/plain": [
       "                 NUMERO_INSCRICAO  VALOR_CONSOLIDADO\n",
       "TIPO_PESSOA                                         \n",
       "Pessoa física       2832243877508       2.629964e+08\n",
       "Pessoa jurídica    80667935729541       1.864722e+10"
      ],
      "text/html": "<div>\n<style scoped>\n    .dataframe tbody tr th:only-of-type {\n        vertical-align: middle;\n    }\n\n    .dataframe tbody tr th {\n        vertical-align: top;\n    }\n\n    .dataframe thead th {\n        text-align: right;\n    }\n</style>\n<table border=\"1\" class=\"dataframe\">\n  <thead>\n    <tr style=\"text-align: right;\">\n      <th></th>\n      <th>NUMERO_INSCRICAO</th>\n      <th>VALOR_CONSOLIDADO</th>\n    </tr>\n    <tr>\n      <th>TIPO_PESSOA</th>\n      <th></th>\n      <th></th>\n    </tr>\n  </thead>\n  <tbody>\n    <tr>\n      <th>Pessoa física</th>\n      <td>2832243877508</td>\n      <td>2.629964e+08</td>\n    </tr>\n    <tr>\n      <th>Pessoa jurídica</th>\n      <td>80667935729541</td>\n      <td>1.864722e+10</td>\n    </tr>\n  </tbody>\n</table>\n</div>"
     },
     "metadata": {},
     "execution_count": 31
    }
   ],
   "source": [
    "pes2 = prev.groupby('TIPO_PESSOA').agg('sum')\n",
    "pes2"
   ]
  },
  {
   "source": [
    "total = pes2['VALOR_CONSOLIDADO'][1] + pes2['VALOR_CONSOLIDADO'][0]\n",
    "percent = round((100 * pes2['VALOR_CONSOLIDADO'][1] / total), 1)\n",
    "div_prev = round(total/1000000000, 1)\n",
    "legenda = \"Empresas são responsáveis por {}% do rombo de {} bilhões de reais não pagos para a previdência em 2020\".format(percent, div_prev)\n",
    "print(legenda)"
   ],
   "cell_type": "code",
   "metadata": {},
   "execution_count": 39,
   "outputs": [
    {
     "output_type": "stream",
     "name": "stdout",
     "text": [
      "Empresas são responsáveis por 98.6% do rombo de 18.9 bilhões de reais não pagos para a previdência em 2020\n"
     ]
    }
   ]
  }
 ]
}